{
 "cells": [
  {
   "cell_type": "markdown",
   "metadata": {},
   "source": [
    "# Will your employees leave you?\n",
    "\n",
    "A hackerearth Machine Learning challenge for predicting the employee attrition rate in organizations"
   ]
  },
  {
   "cell_type": "code",
   "execution_count": 1,
   "metadata": {},
   "outputs": [],
   "source": [
    "import numpy as np\n",
    "import pandas as pd\n",
    "import seaborn as sns\n",
    "import matplotlib.pyplot as plt\n",
    "%matplotlib inline\n",
    "sns.set_style('darkgrid')\n",
    "sns.set_palette('Spectral')"
   ]
  },
  {
   "cell_type": "code",
   "execution_count": 2,
   "metadata": {},
   "outputs": [],
   "source": [
    "import warnings\n",
    "warnings.filterwarnings(\"ignore\")"
   ]
  },
  {
   "cell_type": "code",
   "execution_count": 3,
   "metadata": {},
   "outputs": [],
   "source": [
    "Train=pd.read_csv('Train.csv')\n",
    "Test=pd.read_csv('Test.csv')"
   ]
  },
  {
   "cell_type": "code",
   "execution_count": 4,
   "metadata": {},
   "outputs": [],
   "source": [
    "#seperating the target column\n",
    "target=Train.Attrition_rate"
   ]
  },
  {
   "cell_type": "code",
   "execution_count": 5,
   "metadata": {},
   "outputs": [
    {
     "data": {
      "text/plain": [
       "<matplotlib.axes._subplots.AxesSubplot at 0x234b8be3908>"
      ]
     },
     "execution_count": 5,
     "metadata": {},
     "output_type": "execute_result"
    },
    {
     "data": {
      "image/png": "[encoded data removed]",
      "text/plain": [
       "<Figure size 648x432 with 1 Axes>"
      ]
     },
     "metadata": {},
     "output_type": "display_data"
    }
   ],
   "source": [
    "target.hist(bins=50,figsize=(9,6))"
   ]
  },
  {
   "cell_type": "code",
   "execution_count": 6,
   "metadata": {},
   "outputs": [],
   "source": [
    "#Joining both the train and test data to preprocess\n",
    "df=Train.drop(\"Attrition_rate\",axis=1).append(Test).reset_index(drop=True)"
   ]
  },
  {
   "cell_type": "code",
   "execution_count": 7,
   "metadata": {},
   "outputs": [
    {
     "data": {
      "text/plain": [
       "(10000, 23)"
      ]
     },
     "execution_count": 7,
     "metadata": {},
     "output_type": "execute_result"
    }
   ],
   "source": [
    "df.shape"
   ]
  },
  {
   "cell_type": "code",
   "execution_count": 8,
   "metadata": {},
   "outputs": [
    {
     "data": {
      "text/html": [
       "<div>\n",
       "<style scoped>\n",
       "    .dataframe tbody tr th:only-of-type {\n",
       "        vertical-align: middle;\n",
       "    }\n",
       "\n",
       "    .dataframe tbody tr th {\n",
       "        vertical-align: top;\n",
       "    }\n",
       "\n",
       "    .dataframe thead th {\n",
       "        text-align: right;\n",
       "    }\n",
       "</style>\n",
       "<table border=\"1\" class=\"dataframe\">\n",
       "  <thead>\n",
       "    <tr style=\"text-align: right;\">\n",
       "      <th></th>\n",
       "      <th>Employee_ID</th>\n",
       "      <th>Gender</th>\n",
       "      <th>Age</th>\n",
       "      <th>Education_Level</th>\n",
       "      <th>Relationship_Status</th>\n",
       "      <th>Hometown</th>\n",
       "      <th>Unit</th>\n",
       "      <th>Decision_skill_possess</th>\n",
       "      <th>Time_of_service</th>\n",
       "      <th>Time_since_promotion</th>\n",
       "      <th>...</th>\n",
       "      <th>Pay_Scale</th>\n",
       "      <th>Compensation_and_Benefits</th>\n",
       "      <th>Work_Life_balance</th>\n",
       "      <th>VAR1</th>\n",
       "      <th>VAR2</th>\n",
       "      <th>VAR3</th>\n",
       "      <th>VAR4</th>\n",
       "      <th>VAR5</th>\n",
       "      <th>VAR6</th>\n",
       "      <th>VAR7</th>\n",
       "    </tr>\n",
       "  </thead>\n",
       "  <tbody>\n",
       "    <tr>\n",
       "      <th>0</th>\n",
       "      <td>EID_23371</td>\n",
       "      <td>F</td>\n",
       "      <td>42.0</td>\n",
       "      <td>4</td>\n",
       "      <td>Married</td>\n",
       "      <td>Franklin</td>\n",
       "      <td>IT</td>\n",
       "      <td>Conceptual</td>\n",
       "      <td>4.0</td>\n",
       "      <td>4</td>\n",
       "      <td>...</td>\n",
       "      <td>7.0</td>\n",
       "      <td>type2</td>\n",
       "      <td>3.0</td>\n",
       "      <td>4</td>\n",
       "      <td>0.7516</td>\n",
       "      <td>1.8688</td>\n",
       "      <td>2.0</td>\n",
       "      <td>4</td>\n",
       "      <td>5</td>\n",
       "      <td>3</td>\n",
       "    </tr>\n",
       "    <tr>\n",
       "      <th>1</th>\n",
       "      <td>EID_18000</td>\n",
       "      <td>M</td>\n",
       "      <td>24.0</td>\n",
       "      <td>3</td>\n",
       "      <td>Single</td>\n",
       "      <td>Springfield</td>\n",
       "      <td>Logistics</td>\n",
       "      <td>Analytical</td>\n",
       "      <td>5.0</td>\n",
       "      <td>4</td>\n",
       "      <td>...</td>\n",
       "      <td>6.0</td>\n",
       "      <td>type2</td>\n",
       "      <td>4.0</td>\n",
       "      <td>3</td>\n",
       "      <td>-0.9612</td>\n",
       "      <td>-0.4537</td>\n",
       "      <td>2.0</td>\n",
       "      <td>3</td>\n",
       "      <td>5</td>\n",
       "      <td>3</td>\n",
       "    </tr>\n",
       "    <tr>\n",
       "      <th>2</th>\n",
       "      <td>EID_3891</td>\n",
       "      <td>F</td>\n",
       "      <td>58.0</td>\n",
       "      <td>3</td>\n",
       "      <td>Married</td>\n",
       "      <td>Clinton</td>\n",
       "      <td>Quality</td>\n",
       "      <td>Conceptual</td>\n",
       "      <td>27.0</td>\n",
       "      <td>3</td>\n",
       "      <td>...</td>\n",
       "      <td>8.0</td>\n",
       "      <td>type2</td>\n",
       "      <td>1.0</td>\n",
       "      <td>4</td>\n",
       "      <td>-0.9612</td>\n",
       "      <td>-0.4537</td>\n",
       "      <td>3.0</td>\n",
       "      <td>3</td>\n",
       "      <td>8</td>\n",
       "      <td>3</td>\n",
       "    </tr>\n",
       "    <tr>\n",
       "      <th>3</th>\n",
       "      <td>EID_17492</td>\n",
       "      <td>F</td>\n",
       "      <td>26.0</td>\n",
       "      <td>3</td>\n",
       "      <td>Single</td>\n",
       "      <td>Lebanon</td>\n",
       "      <td>Human Resource Management</td>\n",
       "      <td>Behavioral</td>\n",
       "      <td>4.0</td>\n",
       "      <td>3</td>\n",
       "      <td>...</td>\n",
       "      <td>8.0</td>\n",
       "      <td>type2</td>\n",
       "      <td>1.0</td>\n",
       "      <td>3</td>\n",
       "      <td>-1.8176</td>\n",
       "      <td>-0.4537</td>\n",
       "      <td>NaN</td>\n",
       "      <td>3</td>\n",
       "      <td>7</td>\n",
       "      <td>3</td>\n",
       "    </tr>\n",
       "    <tr>\n",
       "      <th>4</th>\n",
       "      <td>EID_22534</td>\n",
       "      <td>F</td>\n",
       "      <td>31.0</td>\n",
       "      <td>1</td>\n",
       "      <td>Married</td>\n",
       "      <td>Springfield</td>\n",
       "      <td>Logistics</td>\n",
       "      <td>Conceptual</td>\n",
       "      <td>5.0</td>\n",
       "      <td>4</td>\n",
       "      <td>...</td>\n",
       "      <td>2.0</td>\n",
       "      <td>type3</td>\n",
       "      <td>3.0</td>\n",
       "      <td>1</td>\n",
       "      <td>0.7516</td>\n",
       "      <td>-0.4537</td>\n",
       "      <td>2.0</td>\n",
       "      <td>2</td>\n",
       "      <td>8</td>\n",
       "      <td>2</td>\n",
       "    </tr>\n",
       "  </tbody>\n",
       "</table>\n",
       "<p>5 rows × 23 columns</p>\n",
       "</div>"
      ],
      "text/plain": [
       "  Employee_ID Gender   Age  Education_Level Relationship_Status     Hometown  \\\n",
       "0   EID_23371      F  42.0                4             Married     Franklin   \n",
       "1   EID_18000      M  24.0                3              Single  Springfield   \n",
       "2    EID_3891      F  58.0                3             Married      Clinton   \n",
       "3   EID_17492      F  26.0                3              Single      Lebanon   \n",
       "4   EID_22534      F  31.0                1             Married  Springfield   \n",
       "\n",
       "                        Unit Decision_skill_possess  Time_of_service  \\\n",
       "0                         IT             Conceptual              4.0   \n",
       "1                  Logistics             Analytical              5.0   \n",
       "2                    Quality             Conceptual             27.0   \n",
       "3  Human Resource Management             Behavioral              4.0   \n",
       "4                  Logistics             Conceptual              5.0   \n",
       "\n",
       "   Time_since_promotion  ...  Pay_Scale  Compensation_and_Benefits  \\\n",
       "0                     4  ...        7.0                      type2   \n",
       "1                     4  ...        6.0                      type2   \n",
       "2                     3  ...        8.0                      type2   \n",
       "3                     3  ...        8.0                      type2   \n",
       "4                     4  ...        2.0                      type3   \n",
       "\n",
       "   Work_Life_balance  VAR1    VAR2    VAR3  VAR4  VAR5  VAR6  VAR7  \n",
       "0                3.0     4  0.7516  1.8688   2.0     4     5     3  \n",
       "1                4.0     3 -0.9612 -0.4537   2.0     3     5     3  \n",
       "2                1.0     4 -0.9612 -0.4537   3.0     3     8     3  \n",
       "3                1.0     3 -1.8176 -0.4537   NaN     3     7     3  \n",
       "4                3.0     1  0.7516 -0.4537   2.0     2     8     2  \n",
       "\n",
       "[5 rows x 23 columns]"
      ]
     },
     "execution_count": 8,
     "metadata": {},
     "output_type": "execute_result"
    }
   ],
   "source": [
    "df.head()"
   ]
  },
  {
   "cell_type": "markdown",
   "metadata": {},
   "source": [
    "Creating a Function that constructs % Missing Values"
   ]
  },
  {
   "cell_type": "code",
   "execution_count": 9,
   "metadata": {
    "scrolled": true
   },
   "outputs": [
    {
     "data": {
      "text/html": [
       "<div>\n",
       "<style scoped>\n",
       "    .dataframe tbody tr th:only-of-type {\n",
       "        vertical-align: middle;\n",
       "    }\n",
       "\n",
       "    .dataframe tbody tr th {\n",
       "        vertical-align: top;\n",
       "    }\n",
       "\n",
       "    .dataframe thead th {\n",
       "        text-align: right;\n",
       "    }\n",
       "</style>\n",
       "<table border=\"1\" class=\"dataframe\">\n",
       "  <thead>\n",
       "    <tr style=\"text-align: right;\">\n",
       "      <th></th>\n",
       "      <th>% missing</th>\n",
       "      <th>value_count</th>\n",
       "      <th>data_type</th>\n",
       "    </tr>\n",
       "  </thead>\n",
       "  <tbody>\n",
       "    <tr>\n",
       "      <th>VAR4</th>\n",
       "      <td>9.54</td>\n",
       "      <td>{2.0: 6369, 1.0: 1809, 3.0: 868}</td>\n",
       "      <td>float64</td>\n",
       "    </tr>\n",
       "    <tr>\n",
       "      <th>VAR2</th>\n",
       "      <td>7.94</td>\n",
       "      <td>{0.7516: 3582, -0.1048: 2288, -0.9612: 1469, -...</td>\n",
       "      <td>float64</td>\n",
       "    </tr>\n",
       "    <tr>\n",
       "      <th>Age</th>\n",
       "      <td>5.73</td>\n",
       "      <td>{22.0: 347, 27.0: 336, 25.0: 320, 26.0: 305, 5...</td>\n",
       "      <td>float64</td>\n",
       "    </tr>\n",
       "    <tr>\n",
       "      <th>Time_of_service</th>\n",
       "      <td>1.96</td>\n",
       "      <td>{6.0: 755, 5.0: 700, 3.0: 687, 4.0: 653, 2.0: ...</td>\n",
       "      <td>float64</td>\n",
       "    </tr>\n",
       "    <tr>\n",
       "      <th>Work_Life_balance</th>\n",
       "      <td>0.16</td>\n",
       "      <td>{1.0: 2951, 3.0: 2858, 2.0: 2287, 4.0: 1719, 5...</td>\n",
       "      <td>float64</td>\n",
       "    </tr>\n",
       "    <tr>\n",
       "      <th>Pay_Scale</th>\n",
       "      <td>0.12</td>\n",
       "      <td>{8.0: 1964, 6.0: 1820, 5.0: 1640, 4.0: 1405, 7...</td>\n",
       "      <td>float64</td>\n",
       "    </tr>\n",
       "    <tr>\n",
       "      <th>Employee_ID</th>\n",
       "      <td>0.00</td>\n",
       "      <td>{'EID_18020': 1, 'EID_11044': 1, 'EID_7031': 1...</td>\n",
       "      <td>object</td>\n",
       "    </tr>\n",
       "    <tr>\n",
       "      <th>VAR6</th>\n",
       "      <td>0.00</td>\n",
       "      <td>{8: 3809, 7: 2509, 6: 1647, 5: 1283, 9: 752}</td>\n",
       "      <td>int64</td>\n",
       "    </tr>\n",
       "    <tr>\n",
       "      <th>VAR5</th>\n",
       "      <td>0.00</td>\n",
       "      <td>{3: 3926, 2: 2993, 4: 2073, 1: 687, 5: 321}</td>\n",
       "      <td>int64</td>\n",
       "    </tr>\n",
       "    <tr>\n",
       "      <th>VAR3</th>\n",
       "      <td>0.00</td>\n",
       "      <td>{-0.4537: 4755, 0.7075: 3362, 1.8688: 888, -1....</td>\n",
       "      <td>float64</td>\n",
       "    </tr>\n",
       "    <tr>\n",
       "      <th>VAR1</th>\n",
       "      <td>0.00</td>\n",
       "      <td>{3: 6025, 4: 1941, 2: 1026, 1: 510, 5: 498}</td>\n",
       "      <td>int64</td>\n",
       "    </tr>\n",
       "    <tr>\n",
       "      <th>Compensation_and_Benefits</th>\n",
       "      <td>0.00</td>\n",
       "      <td>{'type2': 5686, 'type3': 3346, 'type4': 490, '...</td>\n",
       "      <td>object</td>\n",
       "    </tr>\n",
       "    <tr>\n",
       "      <th>Travel_Rate</th>\n",
       "      <td>0.00</td>\n",
       "      <td>{1: 5499, 0: 3147, 2: 1354}</td>\n",
       "      <td>int64</td>\n",
       "    </tr>\n",
       "    <tr>\n",
       "      <th>Post_Level</th>\n",
       "      <td>0.00</td>\n",
       "      <td>{3: 3469, 2: 2514, 1: 1516, 4: 1486, 5: 1015}</td>\n",
       "      <td>int64</td>\n",
       "    </tr>\n",
       "    <tr>\n",
       "      <th>Gender</th>\n",
       "      <td>0.00</td>\n",
       "      <td>{'F': 5842, 'M': 4158}</td>\n",
       "      <td>object</td>\n",
       "    </tr>\n",
       "    <tr>\n",
       "      <th>growth_rate</th>\n",
       "      <td>0.00</td>\n",
       "      <td>{64: 208, 51: 206, 23: 205, 66: 204, 59: 200, ...</td>\n",
       "      <td>int64</td>\n",
       "    </tr>\n",
       "    <tr>\n",
       "      <th>Time_since_promotion</th>\n",
       "      <td>0.00</td>\n",
       "      <td>{2: 2581, 1: 2574, 3: 2434, 4: 2187, 0: 224}</td>\n",
       "      <td>int64</td>\n",
       "    </tr>\n",
       "    <tr>\n",
       "      <th>Decision_skill_possess</th>\n",
       "      <td>0.00</td>\n",
       "      <td>{'Behavioral': 2535, 'Analytical': 2501, 'Dire...</td>\n",
       "      <td>object</td>\n",
       "    </tr>\n",
       "    <tr>\n",
       "      <th>Unit</th>\n",
       "      <td>0.00</td>\n",
       "      <td>{'IT': 1963, 'Logistics': 1648, 'Sales': 1389,...</td>\n",
       "      <td>object</td>\n",
       "    </tr>\n",
       "    <tr>\n",
       "      <th>Hometown</th>\n",
       "      <td>0.00</td>\n",
       "      <td>{'Lebanon': 2953, 'Springfield': 2484, 'Frankl...</td>\n",
       "      <td>object</td>\n",
       "    </tr>\n",
       "    <tr>\n",
       "      <th>Relationship_Status</th>\n",
       "      <td>0.00</td>\n",
       "      <td>{'Married': 6461, 'Single': 3539}</td>\n",
       "      <td>object</td>\n",
       "    </tr>\n",
       "    <tr>\n",
       "      <th>Education_Level</th>\n",
       "      <td>0.00</td>\n",
       "      <td>{3: 4063, 4: 3018, 2: 982, 1: 979, 5: 958}</td>\n",
       "      <td>int64</td>\n",
       "    </tr>\n",
       "    <tr>\n",
       "      <th>VAR7</th>\n",
       "      <td>0.00</td>\n",
       "      <td>{3: 5619, 4: 1921, 5: 1149, 2: 899, 1: 412}</td>\n",
       "      <td>int64</td>\n",
       "    </tr>\n",
       "  </tbody>\n",
       "</table>\n",
       "</div>"
      ],
      "text/plain": [
       "                           % missing  \\\n",
       "VAR4                            9.54   \n",
       "VAR2                            7.94   \n",
       "Age                             5.73   \n",
       "Time_of_service                 1.96   \n",
       "Work_Life_balance               0.16   \n",
       "Pay_Scale                       0.12   \n",
       "Employee_ID                     0.00   \n",
       "VAR6                            0.00   \n",
       "VAR5                            0.00   \n",
       "VAR3                            0.00   \n",
       "VAR1                            0.00   \n",
       "Compensation_and_Benefits       0.00   \n",
       "Travel_Rate                     0.00   \n",
       "Post_Level                      0.00   \n",
       "Gender                          0.00   \n",
       "growth_rate                     0.00   \n",
       "Time_since_promotion            0.00   \n",
       "Decision_skill_possess          0.00   \n",
       "Unit                            0.00   \n",
       "Hometown                        0.00   \n",
       "Relationship_Status             0.00   \n",
       "Education_Level                 0.00   \n",
       "VAR7                            0.00   \n",
       "\n",
       "                                                                 value_count  \\\n",
       "VAR4                                        {2.0: 6369, 1.0: 1809, 3.0: 868}   \n",
       "VAR2                       {0.7516: 3582, -0.1048: 2288, -0.9612: 1469, -...   \n",
       "Age                        {22.0: 347, 27.0: 336, 25.0: 320, 26.0: 305, 5...   \n",
       "Time_of_service            {6.0: 755, 5.0: 700, 3.0: 687, 4.0: 653, 2.0: ...   \n",
       "Work_Life_balance          {1.0: 2951, 3.0: 2858, 2.0: 2287, 4.0: 1719, 5...   \n",
       "Pay_Scale                  {8.0: 1964, 6.0: 1820, 5.0: 1640, 4.0: 1405, 7...   \n",
       "Employee_ID                {'EID_18020': 1, 'EID_11044': 1, 'EID_7031': 1...   \n",
       "VAR6                            {8: 3809, 7: 2509, 6: 1647, 5: 1283, 9: 752}   \n",
       "VAR5                             {3: 3926, 2: 2993, 4: 2073, 1: 687, 5: 321}   \n",
       "VAR3                       {-0.4537: 4755, 0.7075: 3362, 1.8688: 888, -1....   \n",
       "VAR1                             {3: 6025, 4: 1941, 2: 1026, 1: 510, 5: 498}   \n",
       "Compensation_and_Benefits  {'type2': 5686, 'type3': 3346, 'type4': 490, '...   \n",
       "Travel_Rate                                      {1: 5499, 0: 3147, 2: 1354}   \n",
       "Post_Level                     {3: 3469, 2: 2514, 1: 1516, 4: 1486, 5: 1015}   \n",
       "Gender                                                {'F': 5842, 'M': 4158}   \n",
       "growth_rate                {64: 208, 51: 206, 23: 205, 66: 204, 59: 200, ...   \n",
       "Time_since_promotion            {2: 2581, 1: 2574, 3: 2434, 4: 2187, 0: 224}   \n",
       "Decision_skill_possess     {'Behavioral': 2535, 'Analytical': 2501, 'Dire...   \n",
       "Unit                       {'IT': 1963, 'Logistics': 1648, 'Sales': 1389,...   \n",
       "Hometown                   {'Lebanon': 2953, 'Springfield': 2484, 'Frankl...   \n",
       "Relationship_Status                        {'Married': 6461, 'Single': 3539}   \n",
       "Education_Level                   {3: 4063, 4: 3018, 2: 982, 1: 979, 5: 958}   \n",
       "VAR7                             {3: 5619, 4: 1921, 5: 1149, 2: 899, 1: 412}   \n",
       "\n",
       "                          data_type  \n",
       "VAR4                        float64  \n",
       "VAR2                        float64  \n",
       "Age                         float64  \n",
       "Time_of_service             float64  \n",
       "Work_Life_balance           float64  \n",
       "Pay_Scale                   float64  \n",
       "Employee_ID                  object  \n",
       "VAR6                          int64  \n",
       "VAR5                          int64  \n",
       "VAR3                        float64  \n",
       "VAR1                          int64  \n",
       "Compensation_and_Benefits    object  \n",
       "Travel_Rate                   int64  \n",
       "Post_Level                    int64  \n",
       "Gender                       object  \n",
       "growth_rate                   int64  \n",
       "Time_since_promotion          int64  \n",
       "Decision_skill_possess       object  \n",
       "Unit                         object  \n",
       "Hometown                     object  \n",
       "Relationship_Status          object  \n",
       "Education_Level               int64  \n",
       "VAR7                          int64  "
      ]
     },
     "execution_count": 9,
     "metadata": {},
     "output_type": "execute_result"
    }
   ],
   "source": [
    "def missing(data,x=5):\n",
    "    data_info=pd.DataFrame(index=data.columns)\n",
    "    data_info['% missing']=[sum(data[i].isnull())/len(data[i])*100 for i in data_info.index]\n",
    "    data_info['value_count']=[ dict(data[i].value_counts()) for i in data_info.index]\n",
    "    data_info['data_type']=[data[i].dtypes for i in data_info.index]\n",
    "    data_info=data_info.sort_values(by='% missing',ascending=False)\n",
    "    return data_info.head(x)\n",
    "missing(df,23)"
   ]
  },
  {
   "cell_type": "markdown",
   "metadata": {},
   "source": [
    "All the missing data columns looks numerical i.e. `float64` lets check"
   ]
  },
  {
   "cell_type": "code",
   "execution_count": 10,
   "metadata": {},
   "outputs": [],
   "source": [
    "#filtering continous data cols from all numerical cols\n",
    "col=[]\n",
    "for i in ['VAR4', 'VAR2', 'Age', 'Time_of_service', 'Work_Life_balance','Pay_Scale']:\n",
    "    if len(df[i].value_counts())>10:\n",
    "        col.append(i)"
   ]
  },
  {
   "cell_type": "code",
   "execution_count": 11,
   "metadata": {},
   "outputs": [
    {
     "data": {
      "text/plain": [
       "['Age', 'Time_of_service']"
      ]
     },
     "execution_count": 11,
     "metadata": {},
     "output_type": "execute_result"
    }
   ],
   "source": [
    "col"
   ]
  },
  {
   "cell_type": "markdown",
   "metadata": {},
   "source": [
    "Only 2 columns out of 6 are continious\n",
    "\n",
    "`This is very important because now the remaining 4 will be treated as a categorical column and imputation will be made accordingly`"
   ]
  },
  {
   "cell_type": "markdown",
   "metadata": {},
   "source": [
    "Imputing these missing values"
   ]
  },
  {
   "cell_type": "code",
   "execution_count": 12,
   "metadata": {},
   "outputs": [],
   "source": [
    "from sklearn.impute import SimpleImputer"
   ]
  },
  {
   "cell_type": "code",
   "execution_count": 13,
   "metadata": {},
   "outputs": [],
   "source": [
    "#for numerical\n",
    "imputer=SimpleImputer(strategy='median')"
   ]
  },
  {
   "cell_type": "code",
   "execution_count": 14,
   "metadata": {},
   "outputs": [],
   "source": [
    "num_df=pd.DataFrame(imputer.fit_transform(df[col]),columns=col)"
   ]
  },
  {
   "cell_type": "code",
   "execution_count": 15,
   "metadata": {},
   "outputs": [
    {
     "data": {
      "text/html": [
       "<div>\n",
       "<style scoped>\n",
       "    .dataframe tbody tr th:only-of-type {\n",
       "        vertical-align: middle;\n",
       "    }\n",
       "\n",
       "    .dataframe tbody tr th {\n",
       "        vertical-align: top;\n",
       "    }\n",
       "\n",
       "    .dataframe thead th {\n",
       "        text-align: right;\n",
       "    }\n",
       "</style>\n",
       "<table border=\"1\" class=\"dataframe\">\n",
       "  <thead>\n",
       "    <tr style=\"text-align: right;\">\n",
       "      <th></th>\n",
       "      <th>Age</th>\n",
       "      <th>Time_of_service</th>\n",
       "    </tr>\n",
       "  </thead>\n",
       "  <tbody>\n",
       "    <tr>\n",
       "      <th>0</th>\n",
       "      <td>42.0</td>\n",
       "      <td>4.0</td>\n",
       "    </tr>\n",
       "    <tr>\n",
       "      <th>1</th>\n",
       "      <td>24.0</td>\n",
       "      <td>5.0</td>\n",
       "    </tr>\n",
       "    <tr>\n",
       "      <th>2</th>\n",
       "      <td>58.0</td>\n",
       "      <td>27.0</td>\n",
       "    </tr>\n",
       "    <tr>\n",
       "      <th>3</th>\n",
       "      <td>26.0</td>\n",
       "      <td>4.0</td>\n",
       "    </tr>\n",
       "    <tr>\n",
       "      <th>4</th>\n",
       "      <td>31.0</td>\n",
       "      <td>5.0</td>\n",
       "    </tr>\n",
       "  </tbody>\n",
       "</table>\n",
       "</div>"
      ],
      "text/plain": [
       "    Age  Time_of_service\n",
       "0  42.0              4.0\n",
       "1  24.0              5.0\n",
       "2  58.0             27.0\n",
       "3  26.0              4.0\n",
       "4  31.0              5.0"
      ]
     },
     "execution_count": 15,
     "metadata": {},
     "output_type": "execute_result"
    }
   ],
   "source": [
    "num_df.head()"
   ]
  },
  {
   "cell_type": "code",
   "execution_count": 16,
   "metadata": {},
   "outputs": [],
   "source": [
    "#for categorical from numercial cols\n",
    "imputer=SimpleImputer(strategy='most_frequent')"
   ]
  },
  {
   "cell_type": "code",
   "execution_count": 17,
   "metadata": {},
   "outputs": [],
   "source": [
    "col=['VAR4', 'VAR2','Work_Life_balance','Pay_Scale']"
   ]
  },
  {
   "cell_type": "code",
   "execution_count": 18,
   "metadata": {},
   "outputs": [],
   "source": [
    "cat_df=pd.DataFrame(imputer.fit_transform(df[col]),columns=col)"
   ]
  },
  {
   "cell_type": "code",
   "execution_count": 19,
   "metadata": {},
   "outputs": [
    {
     "data": {
      "text/html": [
       "<div>\n",
       "<style scoped>\n",
       "    .dataframe tbody tr th:only-of-type {\n",
       "        vertical-align: middle;\n",
       "    }\n",
       "\n",
       "    .dataframe tbody tr th {\n",
       "        vertical-align: top;\n",
       "    }\n",
       "\n",
       "    .dataframe thead th {\n",
       "        text-align: right;\n",
       "    }\n",
       "</style>\n",
       "<table border=\"1\" class=\"dataframe\">\n",
       "  <thead>\n",
       "    <tr style=\"text-align: right;\">\n",
       "      <th></th>\n",
       "      <th>VAR4</th>\n",
       "      <th>VAR2</th>\n",
       "      <th>Work_Life_balance</th>\n",
       "      <th>Pay_Scale</th>\n",
       "    </tr>\n",
       "  </thead>\n",
       "  <tbody>\n",
       "    <tr>\n",
       "      <th>0</th>\n",
       "      <td>2.0</td>\n",
       "      <td>0.7516</td>\n",
       "      <td>3.0</td>\n",
       "      <td>7.0</td>\n",
       "    </tr>\n",
       "    <tr>\n",
       "      <th>1</th>\n",
       "      <td>2.0</td>\n",
       "      <td>-0.9612</td>\n",
       "      <td>4.0</td>\n",
       "      <td>6.0</td>\n",
       "    </tr>\n",
       "    <tr>\n",
       "      <th>2</th>\n",
       "      <td>3.0</td>\n",
       "      <td>-0.9612</td>\n",
       "      <td>1.0</td>\n",
       "      <td>8.0</td>\n",
       "    </tr>\n",
       "    <tr>\n",
       "      <th>3</th>\n",
       "      <td>2.0</td>\n",
       "      <td>-1.8176</td>\n",
       "      <td>1.0</td>\n",
       "      <td>8.0</td>\n",
       "    </tr>\n",
       "    <tr>\n",
       "      <th>4</th>\n",
       "      <td>2.0</td>\n",
       "      <td>0.7516</td>\n",
       "      <td>3.0</td>\n",
       "      <td>2.0</td>\n",
       "    </tr>\n",
       "  </tbody>\n",
       "</table>\n",
       "</div>"
      ],
      "text/plain": [
       "   VAR4    VAR2  Work_Life_balance  Pay_Scale\n",
       "0   2.0  0.7516                3.0        7.0\n",
       "1   2.0 -0.9612                4.0        6.0\n",
       "2   3.0 -0.9612                1.0        8.0\n",
       "3   2.0 -1.8176                1.0        8.0\n",
       "4   2.0  0.7516                3.0        2.0"
      ]
     },
     "execution_count": 19,
     "metadata": {},
     "output_type": "execute_result"
    }
   ],
   "source": [
    "cat_df.head()"
   ]
  },
  {
   "cell_type": "code",
   "execution_count": 20,
   "metadata": {},
   "outputs": [],
   "source": [
    "updated_col=['VAR4', 'VAR2','Work_Life_balance','Pay_Scale','Age', 'Time_of_service']"
   ]
  },
  {
   "cell_type": "markdown",
   "metadata": {},
   "source": [
    "Getting the column names that are not imputed and are in their raw form"
   ]
  },
  {
   "cell_type": "code",
   "execution_count": 21,
   "metadata": {},
   "outputs": [],
   "source": [
    "raw_col=[]\n",
    "for i in df.columns:\n",
    "    if i not in updated_col:\n",
    "        raw_col.append(i)"
   ]
  },
  {
   "cell_type": "code",
   "execution_count": 22,
   "metadata": {},
   "outputs": [
    {
     "data": {
      "text/plain": [
       "['Employee_ID',\n",
       " 'Gender',\n",
       " 'Education_Level',\n",
       " 'Relationship_Status',\n",
       " 'Hometown',\n",
       " 'Unit',\n",
       " 'Decision_skill_possess',\n",
       " 'Time_since_promotion',\n",
       " 'growth_rate',\n",
       " 'Travel_Rate',\n",
       " 'Post_Level',\n",
       " 'Compensation_and_Benefits',\n",
       " 'VAR1',\n",
       " 'VAR3',\n",
       " 'VAR5',\n",
       " 'VAR6',\n",
       " 'VAR7']"
      ]
     },
     "execution_count": 22,
     "metadata": {},
     "output_type": "execute_result"
    }
   ],
   "source": [
    "raw_col"
   ]
  },
  {
   "cell_type": "code",
   "execution_count": 23,
   "metadata": {},
   "outputs": [],
   "source": [
    "df1=pd.concat([df[raw_col],num_df,cat_df],axis=1)"
   ]
  },
  {
   "cell_type": "code",
   "execution_count": 24,
   "metadata": {},
   "outputs": [
    {
     "data": {
      "text/html": [
       "<div>\n",
       "<style scoped>\n",
       "    .dataframe tbody tr th:only-of-type {\n",
       "        vertical-align: middle;\n",
       "    }\n",
       "\n",
       "    .dataframe tbody tr th {\n",
       "        vertical-align: top;\n",
       "    }\n",
       "\n",
       "    .dataframe thead th {\n",
       "        text-align: right;\n",
       "    }\n",
       "</style>\n",
       "<table border=\"1\" class=\"dataframe\">\n",
       "  <thead>\n",
       "    <tr style=\"text-align: right;\">\n",
       "      <th></th>\n",
       "      <th>Employee_ID</th>\n",
       "      <th>Gender</th>\n",
       "      <th>Education_Level</th>\n",
       "      <th>Relationship_Status</th>\n",
       "      <th>Hometown</th>\n",
       "      <th>Unit</th>\n",
       "      <th>Decision_skill_possess</th>\n",
       "      <th>Time_since_promotion</th>\n",
       "      <th>growth_rate</th>\n",
       "      <th>Travel_Rate</th>\n",
       "      <th>...</th>\n",
       "      <th>VAR3</th>\n",
       "      <th>VAR5</th>\n",
       "      <th>VAR6</th>\n",
       "      <th>VAR7</th>\n",
       "      <th>Age</th>\n",
       "      <th>Time_of_service</th>\n",
       "      <th>VAR4</th>\n",
       "      <th>VAR2</th>\n",
       "      <th>Work_Life_balance</th>\n",
       "      <th>Pay_Scale</th>\n",
       "    </tr>\n",
       "  </thead>\n",
       "  <tbody>\n",
       "    <tr>\n",
       "      <th>0</th>\n",
       "      <td>EID_23371</td>\n",
       "      <td>F</td>\n",
       "      <td>4</td>\n",
       "      <td>Married</td>\n",
       "      <td>Franklin</td>\n",
       "      <td>IT</td>\n",
       "      <td>Conceptual</td>\n",
       "      <td>4</td>\n",
       "      <td>33</td>\n",
       "      <td>1</td>\n",
       "      <td>...</td>\n",
       "      <td>1.8688</td>\n",
       "      <td>4</td>\n",
       "      <td>5</td>\n",
       "      <td>3</td>\n",
       "      <td>42.0</td>\n",
       "      <td>4.0</td>\n",
       "      <td>2.0</td>\n",
       "      <td>0.7516</td>\n",
       "      <td>3.0</td>\n",
       "      <td>7.0</td>\n",
       "    </tr>\n",
       "    <tr>\n",
       "      <th>1</th>\n",
       "      <td>EID_18000</td>\n",
       "      <td>M</td>\n",
       "      <td>3</td>\n",
       "      <td>Single</td>\n",
       "      <td>Springfield</td>\n",
       "      <td>Logistics</td>\n",
       "      <td>Analytical</td>\n",
       "      <td>4</td>\n",
       "      <td>36</td>\n",
       "      <td>0</td>\n",
       "      <td>...</td>\n",
       "      <td>-0.4537</td>\n",
       "      <td>3</td>\n",
       "      <td>5</td>\n",
       "      <td>3</td>\n",
       "      <td>24.0</td>\n",
       "      <td>5.0</td>\n",
       "      <td>2.0</td>\n",
       "      <td>-0.9612</td>\n",
       "      <td>4.0</td>\n",
       "      <td>6.0</td>\n",
       "    </tr>\n",
       "    <tr>\n",
       "      <th>2</th>\n",
       "      <td>EID_3891</td>\n",
       "      <td>F</td>\n",
       "      <td>3</td>\n",
       "      <td>Married</td>\n",
       "      <td>Clinton</td>\n",
       "      <td>Quality</td>\n",
       "      <td>Conceptual</td>\n",
       "      <td>3</td>\n",
       "      <td>51</td>\n",
       "      <td>0</td>\n",
       "      <td>...</td>\n",
       "      <td>-0.4537</td>\n",
       "      <td>3</td>\n",
       "      <td>8</td>\n",
       "      <td>3</td>\n",
       "      <td>58.0</td>\n",
       "      <td>27.0</td>\n",
       "      <td>3.0</td>\n",
       "      <td>-0.9612</td>\n",
       "      <td>1.0</td>\n",
       "      <td>8.0</td>\n",
       "    </tr>\n",
       "    <tr>\n",
       "      <th>3</th>\n",
       "      <td>EID_17492</td>\n",
       "      <td>F</td>\n",
       "      <td>3</td>\n",
       "      <td>Single</td>\n",
       "      <td>Lebanon</td>\n",
       "      <td>Human Resource Management</td>\n",
       "      <td>Behavioral</td>\n",
       "      <td>3</td>\n",
       "      <td>56</td>\n",
       "      <td>1</td>\n",
       "      <td>...</td>\n",
       "      <td>-0.4537</td>\n",
       "      <td>3</td>\n",
       "      <td>7</td>\n",
       "      <td>3</td>\n",
       "      <td>26.0</td>\n",
       "      <td>4.0</td>\n",
       "      <td>2.0</td>\n",
       "      <td>-1.8176</td>\n",
       "      <td>1.0</td>\n",
       "      <td>8.0</td>\n",
       "    </tr>\n",
       "    <tr>\n",
       "      <th>4</th>\n",
       "      <td>EID_22534</td>\n",
       "      <td>F</td>\n",
       "      <td>1</td>\n",
       "      <td>Married</td>\n",
       "      <td>Springfield</td>\n",
       "      <td>Logistics</td>\n",
       "      <td>Conceptual</td>\n",
       "      <td>4</td>\n",
       "      <td>62</td>\n",
       "      <td>1</td>\n",
       "      <td>...</td>\n",
       "      <td>-0.4537</td>\n",
       "      <td>2</td>\n",
       "      <td>8</td>\n",
       "      <td>2</td>\n",
       "      <td>31.0</td>\n",
       "      <td>5.0</td>\n",
       "      <td>2.0</td>\n",
       "      <td>0.7516</td>\n",
       "      <td>3.0</td>\n",
       "      <td>2.0</td>\n",
       "    </tr>\n",
       "  </tbody>\n",
       "</table>\n",
       "<p>5 rows × 23 columns</p>\n",
       "</div>"
      ],
      "text/plain": [
       "  Employee_ID Gender  Education_Level Relationship_Status     Hometown  \\\n",
       "0   EID_23371      F                4             Married     Franklin   \n",
       "1   EID_18000      M                3              Single  Springfield   \n",
       "2    EID_3891      F                3             Married      Clinton   \n",
       "3   EID_17492      F                3              Single      Lebanon   \n",
       "4   EID_22534      F                1             Married  Springfield   \n",
       "\n",
       "                        Unit Decision_skill_possess  Time_since_promotion  \\\n",
       "0                         IT             Conceptual                     4   \n",
       "1                  Logistics             Analytical                     4   \n",
       "2                    Quality             Conceptual                     3   \n",
       "3  Human Resource Management             Behavioral                     3   \n",
       "4                  Logistics             Conceptual                     4   \n",
       "\n",
       "   growth_rate  Travel_Rate  ...    VAR3 VAR5  VAR6  VAR7   Age  \\\n",
       "0           33            1  ...  1.8688    4     5     3  42.0   \n",
       "1           36            0  ... -0.4537    3     5     3  24.0   \n",
       "2           51            0  ... -0.4537    3     8     3  58.0   \n",
       "3           56            1  ... -0.4537    3     7     3  26.0   \n",
       "4           62            1  ... -0.4537    2     8     2  31.0   \n",
       "\n",
       "   Time_of_service  VAR4    VAR2  Work_Life_balance  Pay_Scale  \n",
       "0              4.0   2.0  0.7516                3.0        7.0  \n",
       "1              5.0   2.0 -0.9612                4.0        6.0  \n",
       "2             27.0   3.0 -0.9612                1.0        8.0  \n",
       "3              4.0   2.0 -1.8176                1.0        8.0  \n",
       "4              5.0   2.0  0.7516                3.0        2.0  \n",
       "\n",
       "[5 rows x 23 columns]"
      ]
     },
     "execution_count": 24,
     "metadata": {},
     "output_type": "execute_result"
    }
   ],
   "source": [
    "df1.head()"
   ]
  },
  {
   "cell_type": "markdown",
   "metadata": {},
   "source": [
    "**These ['VAR1', 'VAR2', 'VAR3', 'VAR4', 'VAR5', 'VAR6','VAR7']  column values are not properly defined in the problem statement so lets have a look over them**"
   ]
  },
  {
   "cell_type": "code",
   "execution_count": 25,
   "metadata": {
    "scrolled": true
   },
   "outputs": [
    {
     "name": "stdout",
     "output_type": "stream",
     "text": [
      "VAR1\n",
      "3    6025\n",
      "4    1941\n",
      "2    1026\n",
      "1     510\n",
      "5     498\n",
      "Name: VAR1, dtype: int64\n",
      "______________________________________\n",
      "\n",
      "VAR2\n",
      " 0.7516    4376\n",
      "-0.1048    2288\n",
      "-0.9612    1469\n",
      "-1.8176    1173\n",
      " 1.6081     694\n",
      "Name: VAR2, dtype: int64\n",
      "______________________________________\n",
      "\n",
      "VAR3\n",
      "-0.4537    4755\n",
      " 0.7075    3362\n",
      " 1.8688     888\n",
      "-1.6150     709\n",
      "-2.7762     286\n",
      "Name: VAR3, dtype: int64\n",
      "______________________________________\n",
      "\n",
      "VAR4\n",
      "2.0    7323\n",
      "1.0    1809\n",
      "3.0     868\n",
      "Name: VAR4, dtype: int64\n",
      "______________________________________\n",
      "\n",
      "VAR5\n",
      "3    3926\n",
      "2    2993\n",
      "4    2073\n",
      "1     687\n",
      "5     321\n",
      "Name: VAR5, dtype: int64\n",
      "______________________________________\n",
      "\n",
      "VAR6\n",
      "8    3809\n",
      "7    2509\n",
      "6    1647\n",
      "5    1283\n",
      "9     752\n",
      "Name: VAR6, dtype: int64\n",
      "______________________________________\n",
      "\n",
      "VAR7\n",
      "3    5619\n",
      "4    1921\n",
      "5    1149\n",
      "2     899\n",
      "1     412\n",
      "Name: VAR7, dtype: int64\n",
      "______________________________________\n",
      "\n"
     ]
    }
   ],
   "source": [
    "for i in ['VAR1', 'VAR2', 'VAR3', 'VAR4', 'VAR5', 'VAR6','VAR7']:\n",
    "    print(i.upper())\n",
    "    print(df1[i].value_counts())\n",
    "    print(\"______________________________________\\n\")"
   ]
  },
  {
   "cell_type": "markdown",
   "metadata": {},
   "source": [
    "Converting these columns value into object type so that we can apply one hot encoding"
   ]
  },
  {
   "cell_type": "code",
   "execution_count": 26,
   "metadata": {},
   "outputs": [],
   "source": [
    "for i in ['VAR1', 'VAR2', 'VAR3', 'VAR4', 'VAR5', 'VAR6','VAR7']:\n",
    "    df1[i]=df1[i].astype(str)"
   ]
  },
  {
   "cell_type": "code",
   "execution_count": 27,
   "metadata": {},
   "outputs": [],
   "source": [
    "#Storing the employee id into a variable because we dont want to convert this into 1 hot representation\n",
    "E_id=df1.Employee_ID"
   ]
  },
  {
   "cell_type": "code",
   "execution_count": 28,
   "metadata": {},
   "outputs": [],
   "source": [
    "#applying one hot encoding\n",
    "df2=pd.get_dummies(df1.drop(\"Employee_ID\",axis=1),drop_first=True)\n",
    "df2['Employee_ID']=E_id"
   ]
  },
  {
   "cell_type": "code",
   "execution_count": 29,
   "metadata": {},
   "outputs": [],
   "source": [
    "#seperating the training data\n",
    "train_df=df2.loc[:6999].drop('Employee_ID',axis=1)"
   ]
  },
  {
   "cell_type": "code",
   "execution_count": 30,
   "metadata": {},
   "outputs": [
    {
     "data": {
      "text/html": [
       "<div>\n",
       "<style scoped>\n",
       "    .dataframe tbody tr th:only-of-type {\n",
       "        vertical-align: middle;\n",
       "    }\n",
       "\n",
       "    .dataframe tbody tr th {\n",
       "        vertical-align: top;\n",
       "    }\n",
       "\n",
       "    .dataframe thead th {\n",
       "        text-align: right;\n",
       "    }\n",
       "</style>\n",
       "<table border=\"1\" class=\"dataframe\">\n",
       "  <thead>\n",
       "    <tr style=\"text-align: right;\">\n",
       "      <th></th>\n",
       "      <th>Education_Level</th>\n",
       "      <th>Time_since_promotion</th>\n",
       "      <th>growth_rate</th>\n",
       "      <th>Travel_Rate</th>\n",
       "      <th>Post_Level</th>\n",
       "      <th>Age</th>\n",
       "      <th>Time_of_service</th>\n",
       "      <th>Work_Life_balance</th>\n",
       "      <th>Pay_Scale</th>\n",
       "      <th>Gender_M</th>\n",
       "      <th>...</th>\n",
       "      <th>VAR7_2</th>\n",
       "      <th>VAR7_3</th>\n",
       "      <th>VAR7_4</th>\n",
       "      <th>VAR7_5</th>\n",
       "      <th>VAR4_2.0</th>\n",
       "      <th>VAR4_3.0</th>\n",
       "      <th>VAR2_-0.9612</th>\n",
       "      <th>VAR2_-1.8176</th>\n",
       "      <th>VAR2_0.7516</th>\n",
       "      <th>VAR2_1.6081</th>\n",
       "    </tr>\n",
       "  </thead>\n",
       "  <tbody>\n",
       "    <tr>\n",
       "      <th>0</th>\n",
       "      <td>4</td>\n",
       "      <td>4</td>\n",
       "      <td>33</td>\n",
       "      <td>1</td>\n",
       "      <td>1</td>\n",
       "      <td>42.0</td>\n",
       "      <td>4.0</td>\n",
       "      <td>3.0</td>\n",
       "      <td>7.0</td>\n",
       "      <td>0</td>\n",
       "      <td>...</td>\n",
       "      <td>0</td>\n",
       "      <td>1</td>\n",
       "      <td>0</td>\n",
       "      <td>0</td>\n",
       "      <td>1</td>\n",
       "      <td>0</td>\n",
       "      <td>0</td>\n",
       "      <td>0</td>\n",
       "      <td>1</td>\n",
       "      <td>0</td>\n",
       "    </tr>\n",
       "    <tr>\n",
       "      <th>1</th>\n",
       "      <td>3</td>\n",
       "      <td>4</td>\n",
       "      <td>36</td>\n",
       "      <td>0</td>\n",
       "      <td>3</td>\n",
       "      <td>24.0</td>\n",
       "      <td>5.0</td>\n",
       "      <td>4.0</td>\n",
       "      <td>6.0</td>\n",
       "      <td>1</td>\n",
       "      <td>...</td>\n",
       "      <td>0</td>\n",
       "      <td>1</td>\n",
       "      <td>0</td>\n",
       "      <td>0</td>\n",
       "      <td>1</td>\n",
       "      <td>0</td>\n",
       "      <td>1</td>\n",
       "      <td>0</td>\n",
       "      <td>0</td>\n",
       "      <td>0</td>\n",
       "    </tr>\n",
       "    <tr>\n",
       "      <th>2</th>\n",
       "      <td>3</td>\n",
       "      <td>3</td>\n",
       "      <td>51</td>\n",
       "      <td>0</td>\n",
       "      <td>2</td>\n",
       "      <td>58.0</td>\n",
       "      <td>27.0</td>\n",
       "      <td>1.0</td>\n",
       "      <td>8.0</td>\n",
       "      <td>0</td>\n",
       "      <td>...</td>\n",
       "      <td>0</td>\n",
       "      <td>1</td>\n",
       "      <td>0</td>\n",
       "      <td>0</td>\n",
       "      <td>0</td>\n",
       "      <td>1</td>\n",
       "      <td>1</td>\n",
       "      <td>0</td>\n",
       "      <td>0</td>\n",
       "      <td>0</td>\n",
       "    </tr>\n",
       "    <tr>\n",
       "      <th>3</th>\n",
       "      <td>3</td>\n",
       "      <td>3</td>\n",
       "      <td>56</td>\n",
       "      <td>1</td>\n",
       "      <td>3</td>\n",
       "      <td>26.0</td>\n",
       "      <td>4.0</td>\n",
       "      <td>1.0</td>\n",
       "      <td>8.0</td>\n",
       "      <td>0</td>\n",
       "      <td>...</td>\n",
       "      <td>0</td>\n",
       "      <td>1</td>\n",
       "      <td>0</td>\n",
       "      <td>0</td>\n",
       "      <td>1</td>\n",
       "      <td>0</td>\n",
       "      <td>0</td>\n",
       "      <td>1</td>\n",
       "      <td>0</td>\n",
       "      <td>0</td>\n",
       "    </tr>\n",
       "    <tr>\n",
       "      <th>4</th>\n",
       "      <td>1</td>\n",
       "      <td>4</td>\n",
       "      <td>62</td>\n",
       "      <td>1</td>\n",
       "      <td>3</td>\n",
       "      <td>31.0</td>\n",
       "      <td>5.0</td>\n",
       "      <td>3.0</td>\n",
       "      <td>2.0</td>\n",
       "      <td>0</td>\n",
       "      <td>...</td>\n",
       "      <td>1</td>\n",
       "      <td>0</td>\n",
       "      <td>0</td>\n",
       "      <td>0</td>\n",
       "      <td>1</td>\n",
       "      <td>0</td>\n",
       "      <td>0</td>\n",
       "      <td>0</td>\n",
       "      <td>1</td>\n",
       "      <td>0</td>\n",
       "    </tr>\n",
       "  </tbody>\n",
       "</table>\n",
       "<p>5 rows × 59 columns</p>\n",
       "</div>"
      ],
      "text/plain": [
       "   Education_Level  Time_since_promotion  growth_rate  Travel_Rate  \\\n",
       "0                4                     4           33            1   \n",
       "1                3                     4           36            0   \n",
       "2                3                     3           51            0   \n",
       "3                3                     3           56            1   \n",
       "4                1                     4           62            1   \n",
       "\n",
       "   Post_Level   Age  Time_of_service  Work_Life_balance  Pay_Scale  Gender_M  \\\n",
       "0           1  42.0              4.0                3.0        7.0         0   \n",
       "1           3  24.0              5.0                4.0        6.0         1   \n",
       "2           2  58.0             27.0                1.0        8.0         0   \n",
       "3           3  26.0              4.0                1.0        8.0         0   \n",
       "4           3  31.0              5.0                3.0        2.0         0   \n",
       "\n",
       "   ...  VAR7_2  VAR7_3  VAR7_4  VAR7_5  VAR4_2.0  VAR4_3.0  VAR2_-0.9612  \\\n",
       "0  ...       0       1       0       0         1         0             0   \n",
       "1  ...       0       1       0       0         1         0             1   \n",
       "2  ...       0       1       0       0         0         1             1   \n",
       "3  ...       0       1       0       0         1         0             0   \n",
       "4  ...       1       0       0       0         1         0             0   \n",
       "\n",
       "   VAR2_-1.8176  VAR2_0.7516  VAR2_1.6081  \n",
       "0             0            1            0  \n",
       "1             0            0            0  \n",
       "2             0            0            0  \n",
       "3             1            0            0  \n",
       "4             0            1            0  \n",
       "\n",
       "[5 rows x 59 columns]"
      ]
     },
     "execution_count": 30,
     "metadata": {},
     "output_type": "execute_result"
    }
   ],
   "source": [
    "#without emp id\n",
    "train_df.head()"
   ]
  },
  {
   "cell_type": "code",
   "execution_count": 31,
   "metadata": {},
   "outputs": [],
   "source": [
    "#seperating the test data\n",
    "test_df=df2.loc[7000:]\n",
    "target_df=train_df.copy()\n",
    "target_df['target']=target"
   ]
  },
  {
   "cell_type": "markdown",
   "metadata": {},
   "source": [
    "Splitting the training data into further train and test sets for validating the model"
   ]
  },
  {
   "cell_type": "code",
   "execution_count": 32,
   "metadata": {},
   "outputs": [],
   "source": [
    "from sklearn.model_selection import train_test_split"
   ]
  },
  {
   "cell_type": "code",
   "execution_count": 33,
   "metadata": {},
   "outputs": [],
   "source": [
    "X_train, X_test, y_train, y_test = train_test_split(train_df, target, test_size=0.3,random_state=42)"
   ]
  },
  {
   "cell_type": "markdown",
   "metadata": {},
   "source": [
    "# Model building"
   ]
  },
  {
   "cell_type": "code",
   "execution_count": 34,
   "metadata": {},
   "outputs": [],
   "source": [
    "from sklearn.linear_model import Lasso,Ridge\n",
    "from sklearn.neighbors import KNeighborsRegressor\n",
    "from sklearn.ensemble import RandomForestRegressor,GradientBoostingRegressor\n",
    "from sklearn.tree import DecisionTreeRegressor\n",
    "from sklearn.svm import SVR\n",
    "from xgboost.sklearn import XGBRegressor\n",
    "from sklearn.metrics import mean_squared_error,r2_score,accuracy_score\n",
    "from sklearn.model_selection import GridSearchCV,cross_val_score\n",
    "from sklearn.preprocessing import StandardScaler"
   ]
  },
  {
   "cell_type": "code",
   "execution_count": 35,
   "metadata": {},
   "outputs": [],
   "source": [
    "def fit_predict(model,param):\n",
    "    gs=GridSearchCV(model,param,cv=5,scoring='neg_root_mean_squared_error',verbose=1,n_jobs=-1)\n",
    "    gs.fit(X_train,y_train)\n",
    "    tuned=gs.best_params_\n",
    "    er1=(1-(mean_squared_error(y_train,gs.predict(X_train)))**0.5)*100 #for training set error\n",
    "    er2=(1-(mean_squared_error(y_test,gs.predict(X_test)))**0.5)*100 #for testing set error\n",
    "    model_name=str(model).split('(')[0]\n",
    "    return (tuned,er1,er2,model_name)"
   ]
  },
  {
   "cell_type": "markdown",
   "metadata": {},
   "source": [
    "**Lasso**"
   ]
  },
  {
   "cell_type": "code",
   "execution_count": 36,
   "metadata": {},
   "outputs": [
    {
     "name": "stdout",
     "output_type": "stream",
     "text": [
      "Fitting 5 folds for each of 20 candidates, totalling 100 fits\n"
     ]
    },
    {
     "name": "stderr",
     "output_type": "stream",
     "text": [
      "[Parallel(n_jobs=-1)]: Using backend LokyBackend with 4 concurrent workers.\n",
      "[Parallel(n_jobs=-1)]: Done  68 tasks      | elapsed:    2.8s\n",
      "[Parallel(n_jobs=-1)]: Done 100 out of 100 | elapsed:    3.0s finished\n"
     ]
    },
    {
     "data": {
      "text/plain": [
       "({'alpha': 0.02, 'normalize': True},\n",
       " 81.62190749277603,\n",
       " 80.97555277644301,\n",
       " 'Lasso')"
      ]
     },
     "execution_count": 36,
     "metadata": {},
     "output_type": "execute_result"
    }
   ],
   "source": [
    "fit_predict(Lasso(),{'alpha':np.arange(0.02,1.0,0.1),'normalize':[True,False]})"
   ]
  },
  {
   "cell_type": "markdown",
   "metadata": {},
   "source": [
    "**RandomForestRegressor**"
   ]
  },
  {
   "cell_type": "code",
   "execution_count": 37,
   "metadata": {},
   "outputs": [
    {
     "name": "stdout",
     "output_type": "stream",
     "text": [
      "Fitting 5 folds for each of 36 candidates, totalling 180 fits\n"
     ]
    },
    {
     "name": "stderr",
     "output_type": "stream",
     "text": [
      "[Parallel(n_jobs=-1)]: Using backend LokyBackend with 4 concurrent workers.\n",
      "[Parallel(n_jobs=-1)]: Done  42 tasks      | elapsed:   37.8s\n",
      "[Parallel(n_jobs=-1)]: Done 180 out of 180 | elapsed:  3.0min finished\n"
     ]
    },
    {
     "data": {
      "text/plain": [
       "({'max_depth': 1,\n",
       "  'max_features': 0.01,\n",
       "  'min_samples_leaf': 0.05,\n",
       "  'n_estimators': 800,\n",
       "  'oob_score': True},\n",
       " 81.62497166828179,\n",
       " 80.97678283798348,\n",
       " 'RandomForestRegressor')"
      ]
     },
     "execution_count": 37,
     "metadata": {},
     "output_type": "execute_result"
    }
   ],
   "source": [
    "fit_predict(RandomForestRegressor(),{'n_estimators':[800,1000,1200],'max_depth':[1,3],'min_samples_leaf':[0.05],'max_features':[0.01,\"log2\",'sqrt'],'oob_score':[True,False]})"
   ]
  },
  {
   "cell_type": "markdown",
   "metadata": {},
   "source": [
    "**DecisionTreeRegressor**"
   ]
  },
  {
   "cell_type": "code",
   "execution_count": 38,
   "metadata": {},
   "outputs": [
    {
     "name": "stdout",
     "output_type": "stream",
     "text": [
      "Fitting 5 folds for each of 27 candidates, totalling 135 fits\n"
     ]
    },
    {
     "name": "stderr",
     "output_type": "stream",
     "text": [
      "[Parallel(n_jobs=-1)]: Using backend LokyBackend with 4 concurrent workers.\n",
      "[Parallel(n_jobs=-1)]: Done 135 out of 135 | elapsed:    0.7s finished\n"
     ]
    },
    {
     "data": {
      "text/plain": [
       "({'max_depth': 8, 'max_features': 0.01, 'min_samples_leaf': 0.05},\n",
       " 81.62190749277603,\n",
       " 80.97555277644301,\n",
       " 'DecisionTreeRegressor')"
      ]
     },
     "execution_count": 38,
     "metadata": {},
     "output_type": "execute_result"
    }
   ],
   "source": [
    "fit_predict(DecisionTreeRegressor(),{'max_depth':[7,8,9], 'max_features':[0.009,0.01,0.02], 'min_samples_leaf':[0.05,0.06,0.07]})"
   ]
  },
  {
   "cell_type": "markdown",
   "metadata": {},
   "source": [
    "**SVR**"
   ]
  },
  {
   "cell_type": "code",
   "execution_count": 51,
   "metadata": {},
   "outputs": [
    {
     "name": "stdout",
     "output_type": "stream",
     "text": [
      "Fitting 5 folds for each of 20 candidates, totalling 100 fits\n"
     ]
    },
    {
     "name": "stderr",
     "output_type": "stream",
     "text": [
      "[Parallel(n_jobs=-1)]: Using backend LokyBackend with 4 concurrent workers.\n",
      "[Parallel(n_jobs=-1)]: Done  42 tasks      | elapsed:   26.0s\n",
      "[Parallel(n_jobs=-1)]: Done 100 out of 100 | elapsed:  3.6min finished\n"
     ]
    },
    {
     "data": {
      "text/plain": [
       "({'C': 0.1, 'gamma': 1}, 85.3115196205884, 80.95380962092155, 'SVR')"
      ]
     },
     "execution_count": 51,
     "metadata": {},
     "output_type": "execute_result"
    }
   ],
   "source": [
    "fit_predict(SVR(),{'C':[0.1,1,10,100,1000],'gamma':[1,0.1,0.01,0.001]})"
   ]
  },
  {
   "cell_type": "markdown",
   "metadata": {},
   "source": [
    "**XGBRegressor**"
   ]
  },
  {
   "cell_type": "code",
   "execution_count": 39,
   "metadata": {},
   "outputs": [
    {
     "name": "stderr",
     "output_type": "stream",
     "text": [
      "[Parallel(n_jobs=-1)]: Using backend LokyBackend with 4 concurrent workers.\n"
     ]
    },
    {
     "name": "stdout",
     "output_type": "stream",
     "text": [
      "Fitting 5 folds for each of 72 candidates, totalling 360 fits\n"
     ]
    },
    {
     "name": "stderr",
     "output_type": "stream",
     "text": [
      "[Parallel(n_jobs=-1)]: Done  42 tasks      | elapsed:  1.9min\n",
      "[Parallel(n_jobs=-1)]: Done 192 tasks      | elapsed:  8.4min\n",
      "[Parallel(n_jobs=-1)]: Done 360 out of 360 | elapsed: 16.7min finished\n"
     ]
    },
    {
     "data": {
      "text/plain": [
       "({'gamma': 1, 'learning_rate': 0.1, 'max_depth': 3, 'n_estimators': 300},\n",
       " 81.62190749277252,\n",
       " 80.97555300638749,\n",
       " 'XGBRegressor')"
      ]
     },
     "execution_count": 39,
     "metadata": {},
     "output_type": "execute_result"
    }
   ],
   "source": [
    "fit_predict(XGBRegressor(),{'n_estimators':[100,300,500],'max_depth':[3,5,7],'gamma':[1,0.1,0.05,0.01],'learning_rate':[0.05,0.1]})"
   ]
  },
  {
   "cell_type": "code",
   "execution_count": null,
   "metadata": {},
   "outputs": [],
   "source": []
  },
  {
   "cell_type": "code",
   "execution_count": null,
   "metadata": {},
   "outputs": [],
   "source": []
  },
  {
   "cell_type": "markdown",
   "metadata": {},
   "source": [
    "<font size ='4'>There are many features lets use random forest to filter out non-important features</font>"
   ]
  },
  {
   "cell_type": "code",
   "execution_count": 42,
   "metadata": {},
   "outputs": [
    {
     "name": "stdout",
     "output_type": "stream",
     "text": [
      "No. of features in the data = (4900, 59)\n"
     ]
    }
   ],
   "source": [
    "print(f\"No. of features in the data = {X_train.shape[1]}\")"
   ]
  },
  {
   "cell_type": "code",
   "execution_count": 43,
   "metadata": {},
   "outputs": [],
   "source": [
    "model=RandomForestRegressor(min_samples_leaf=0.05, max_depth= 3,n_estimators= 1000,max_features=0.01,oob_score=True)"
   ]
  },
  {
   "cell_type": "code",
   "execution_count": 44,
   "metadata": {},
   "outputs": [
    {
     "data": {
      "text/plain": [
       "RandomForestRegressor(bootstrap=True, ccp_alpha=0.0, criterion='mse',\n",
       "                      max_depth=3, max_features=0.01, max_leaf_nodes=None,\n",
       "                      max_samples=None, min_impurity_decrease=0.0,\n",
       "                      min_impurity_split=None, min_samples_leaf=0.05,\n",
       "                      min_samples_split=2, min_weight_fraction_leaf=0.0,\n",
       "                      n_estimators=1000, n_jobs=None, oob_score=True,\n",
       "                      random_state=None, verbose=0, warm_start=False)"
      ]
     },
     "execution_count": 44,
     "metadata": {},
     "output_type": "execute_result"
    }
   ],
   "source": [
    "model.fit(X_train,y_train)"
   ]
  },
  {
   "cell_type": "code",
   "execution_count": 45,
   "metadata": {},
   "outputs": [
    {
     "data": {
      "text/plain": [
       "array([0.03370711, 0.0346543 , 0.04289651, 0.02881771, 0.03797702,\n",
       "       0.0362311 , 0.02975959, 0.02830496, 0.03365154, 0.03774319,\n",
       "       0.01785508, 0.01484283, 0.02071921, 0.01488562, 0.01854289,\n",
       "       0.        , 0.03720931, 0.0225795 , 0.        , 0.00727437,\n",
       "       0.        , 0.        , 0.        , 0.01539162, 0.01589215,\n",
       "       0.        , 0.0194757 , 0.02699005, 0.02455867, 0.        ,\n",
       "       0.01365352, 0.0224762 , 0.        , 0.01543634, 0.02013844,\n",
       "       0.0145103 , 0.        , 0.        , 0.        , 0.02378072,\n",
       "       0.00947018, 0.02202726, 0.021477  , 0.01121951, 0.        ,\n",
       "       0.01422707, 0.01820578, 0.02340892, 0.00063929, 0.00572795,\n",
       "       0.02386764, 0.018635  , 0.02651693, 0.01754232, 0.00973508,\n",
       "       0.02759625, 0.01256142, 0.02718686, 0.        ])"
      ]
     },
     "execution_count": 45,
     "metadata": {},
     "output_type": "execute_result"
    }
   ],
   "source": [
    "#An array that represents imprortance of each feature\n",
    "model.feature_importances_"
   ]
  },
  {
   "cell_type": "code",
   "execution_count": 46,
   "metadata": {},
   "outputs": [],
   "source": [
    "feat=pd.DataFrame(list(model.feature_importances_),index=X_train.columns).sort_values(0,ascending=False)"
   ]
  },
  {
   "cell_type": "code",
   "execution_count": 47,
   "metadata": {
    "scrolled": true
   },
   "outputs": [
    {
     "data": {
      "text/html": [
       "<div>\n",
       "<style scoped>\n",
       "    .dataframe tbody tr th:only-of-type {\n",
       "        vertical-align: middle;\n",
       "    }\n",
       "\n",
       "    .dataframe tbody tr th {\n",
       "        vertical-align: top;\n",
       "    }\n",
       "\n",
       "    .dataframe thead th {\n",
       "        text-align: right;\n",
       "    }\n",
       "</style>\n",
       "<table border=\"1\" class=\"dataframe\">\n",
       "  <thead>\n",
       "    <tr style=\"text-align: right;\">\n",
       "      <th></th>\n",
       "      <th>0</th>\n",
       "    </tr>\n",
       "  </thead>\n",
       "  <tbody>\n",
       "    <tr>\n",
       "      <th>growth_rate</th>\n",
       "      <td>0.042897</td>\n",
       "    </tr>\n",
       "    <tr>\n",
       "      <th>Post_Level</th>\n",
       "      <td>0.037977</td>\n",
       "    </tr>\n",
       "    <tr>\n",
       "      <th>Gender_M</th>\n",
       "      <td>0.037743</td>\n",
       "    </tr>\n",
       "    <tr>\n",
       "      <th>Unit_IT</th>\n",
       "      <td>0.037209</td>\n",
       "    </tr>\n",
       "    <tr>\n",
       "      <th>Age</th>\n",
       "      <td>0.036231</td>\n",
       "    </tr>\n",
       "    <tr>\n",
       "      <th>Time_since_promotion</th>\n",
       "      <td>0.034654</td>\n",
       "    </tr>\n",
       "    <tr>\n",
       "      <th>Education_Level</th>\n",
       "      <td>0.033707</td>\n",
       "    </tr>\n",
       "    <tr>\n",
       "      <th>Pay_Scale</th>\n",
       "      <td>0.033652</td>\n",
       "    </tr>\n",
       "    <tr>\n",
       "      <th>Time_of_service</th>\n",
       "      <td>0.029760</td>\n",
       "    </tr>\n",
       "    <tr>\n",
       "      <th>Travel_Rate</th>\n",
       "      <td>0.028818</td>\n",
       "    </tr>\n",
       "    <tr>\n",
       "      <th>Work_Life_balance</th>\n",
       "      <td>0.028305</td>\n",
       "    </tr>\n",
       "    <tr>\n",
       "      <th>VAR2_-0.9612</th>\n",
       "      <td>0.027596</td>\n",
       "    </tr>\n",
       "    <tr>\n",
       "      <th>VAR2_0.7516</th>\n",
       "      <td>0.027187</td>\n",
       "    </tr>\n",
       "    <tr>\n",
       "      <th>Decision_skill_possess_Conceptual</th>\n",
       "      <td>0.026990</td>\n",
       "    </tr>\n",
       "    <tr>\n",
       "      <th>VAR7_5</th>\n",
       "      <td>0.026517</td>\n",
       "    </tr>\n",
       "    <tr>\n",
       "      <th>Decision_skill_possess_Directive</th>\n",
       "      <td>0.024559</td>\n",
       "    </tr>\n",
       "    <tr>\n",
       "      <th>VAR7_3</th>\n",
       "      <td>0.023868</td>\n",
       "    </tr>\n",
       "    <tr>\n",
       "      <th>VAR3_0.7075</th>\n",
       "      <td>0.023781</td>\n",
       "    </tr>\n",
       "    <tr>\n",
       "      <th>VAR6_8</th>\n",
       "      <td>0.023409</td>\n",
       "    </tr>\n",
       "    <tr>\n",
       "      <th>Unit_Logistics</th>\n",
       "      <td>0.022580</td>\n",
       "    </tr>\n",
       "    <tr>\n",
       "      <th>Compensation_and_Benefits_type3</th>\n",
       "      <td>0.022476</td>\n",
       "    </tr>\n",
       "    <tr>\n",
       "      <th>VAR5_2</th>\n",
       "      <td>0.022027</td>\n",
       "    </tr>\n",
       "    <tr>\n",
       "      <th>VAR5_3</th>\n",
       "      <td>0.021477</td>\n",
       "    </tr>\n",
       "    <tr>\n",
       "      <th>Hometown_Lebanon</th>\n",
       "      <td>0.020719</td>\n",
       "    </tr>\n",
       "    <tr>\n",
       "      <th>VAR1_3</th>\n",
       "      <td>0.020138</td>\n",
       "    </tr>\n",
       "    <tr>\n",
       "      <th>Decision_skill_possess_Behavioral</th>\n",
       "      <td>0.019476</td>\n",
       "    </tr>\n",
       "    <tr>\n",
       "      <th>VAR7_4</th>\n",
       "      <td>0.018635</td>\n",
       "    </tr>\n",
       "    <tr>\n",
       "      <th>Hometown_Washington</th>\n",
       "      <td>0.018543</td>\n",
       "    </tr>\n",
       "    <tr>\n",
       "      <th>VAR6_7</th>\n",
       "      <td>0.018206</td>\n",
       "    </tr>\n",
       "    <tr>\n",
       "      <th>Relationship_Status_Single</th>\n",
       "      <td>0.017855</td>\n",
       "    </tr>\n",
       "    <tr>\n",
       "      <th>VAR4_2.0</th>\n",
       "      <td>0.017542</td>\n",
       "    </tr>\n",
       "    <tr>\n",
       "      <th>Unit_Sales</th>\n",
       "      <td>0.015892</td>\n",
       "    </tr>\n",
       "    <tr>\n",
       "      <th>VAR1_2</th>\n",
       "      <td>0.015436</td>\n",
       "    </tr>\n",
       "    <tr>\n",
       "      <th>Unit_R&amp;D</th>\n",
       "      <td>0.015392</td>\n",
       "    </tr>\n",
       "    <tr>\n",
       "      <th>Hometown_Springfield</th>\n",
       "      <td>0.014886</td>\n",
       "    </tr>\n",
       "    <tr>\n",
       "      <th>Hometown_Franklin</th>\n",
       "      <td>0.014843</td>\n",
       "    </tr>\n",
       "    <tr>\n",
       "      <th>VAR1_4</th>\n",
       "      <td>0.014510</td>\n",
       "    </tr>\n",
       "    <tr>\n",
       "      <th>VAR6_6</th>\n",
       "      <td>0.014227</td>\n",
       "    </tr>\n",
       "    <tr>\n",
       "      <th>Compensation_and_Benefits_type2</th>\n",
       "      <td>0.013654</td>\n",
       "    </tr>\n",
       "    <tr>\n",
       "      <th>VAR2_-1.8176</th>\n",
       "      <td>0.012561</td>\n",
       "    </tr>\n",
       "    <tr>\n",
       "      <th>VAR5_4</th>\n",
       "      <td>0.011220</td>\n",
       "    </tr>\n",
       "    <tr>\n",
       "      <th>VAR4_3.0</th>\n",
       "      <td>0.009735</td>\n",
       "    </tr>\n",
       "    <tr>\n",
       "      <th>VAR3_1.8688</th>\n",
       "      <td>0.009470</td>\n",
       "    </tr>\n",
       "    <tr>\n",
       "      <th>Unit_Operarions</th>\n",
       "      <td>0.007274</td>\n",
       "    </tr>\n",
       "    <tr>\n",
       "      <th>VAR7_2</th>\n",
       "      <td>0.005728</td>\n",
       "    </tr>\n",
       "    <tr>\n",
       "      <th>VAR6_9</th>\n",
       "      <td>0.000639</td>\n",
       "    </tr>\n",
       "    <tr>\n",
       "      <th>Compensation_and_Benefits_type1</th>\n",
       "      <td>0.000000</td>\n",
       "    </tr>\n",
       "    <tr>\n",
       "      <th>VAR5_5</th>\n",
       "      <td>0.000000</td>\n",
       "    </tr>\n",
       "    <tr>\n",
       "      <th>VAR3_-2.7762</th>\n",
       "      <td>0.000000</td>\n",
       "    </tr>\n",
       "    <tr>\n",
       "      <th>VAR3_-1.615</th>\n",
       "      <td>0.000000</td>\n",
       "    </tr>\n",
       "    <tr>\n",
       "      <th>VAR1_5</th>\n",
       "      <td>0.000000</td>\n",
       "    </tr>\n",
       "    <tr>\n",
       "      <th>Compensation_and_Benefits_type4</th>\n",
       "      <td>0.000000</td>\n",
       "    </tr>\n",
       "    <tr>\n",
       "      <th>Unit_Security</th>\n",
       "      <td>0.000000</td>\n",
       "    </tr>\n",
       "    <tr>\n",
       "      <th>Unit_Quality</th>\n",
       "      <td>0.000000</td>\n",
       "    </tr>\n",
       "    <tr>\n",
       "      <th>Unit_Purchasing</th>\n",
       "      <td>0.000000</td>\n",
       "    </tr>\n",
       "    <tr>\n",
       "      <th>Unit_Production</th>\n",
       "      <td>0.000000</td>\n",
       "    </tr>\n",
       "    <tr>\n",
       "      <th>Unit_Marketing</th>\n",
       "      <td>0.000000</td>\n",
       "    </tr>\n",
       "    <tr>\n",
       "      <th>Unit_Human Resource Management</th>\n",
       "      <td>0.000000</td>\n",
       "    </tr>\n",
       "    <tr>\n",
       "      <th>VAR2_1.6081</th>\n",
       "      <td>0.000000</td>\n",
       "    </tr>\n",
       "  </tbody>\n",
       "</table>\n",
       "</div>"
      ],
      "text/plain": [
       "                                          0\n",
       "growth_rate                        0.042897\n",
       "Post_Level                         0.037977\n",
       "Gender_M                           0.037743\n",
       "Unit_IT                            0.037209\n",
       "Age                                0.036231\n",
       "Time_since_promotion               0.034654\n",
       "Education_Level                    0.033707\n",
       "Pay_Scale                          0.033652\n",
       "Time_of_service                    0.029760\n",
       "Travel_Rate                        0.028818\n",
       "Work_Life_balance                  0.028305\n",
       "VAR2_-0.9612                       0.027596\n",
       "VAR2_0.7516                        0.027187\n",
       "Decision_skill_possess_Conceptual  0.026990\n",
       "VAR7_5                             0.026517\n",
       "Decision_skill_possess_Directive   0.024559\n",
       "VAR7_3                             0.023868\n",
       "VAR3_0.7075                        0.023781\n",
       "VAR6_8                             0.023409\n",
       "Unit_Logistics                     0.022580\n",
       "Compensation_and_Benefits_type3    0.022476\n",
       "VAR5_2                             0.022027\n",
       "VAR5_3                             0.021477\n",
       "Hometown_Lebanon                   0.020719\n",
       "VAR1_3                             0.020138\n",
       "Decision_skill_possess_Behavioral  0.019476\n",
       "VAR7_4                             0.018635\n",
       "Hometown_Washington                0.018543\n",
       "VAR6_7                             0.018206\n",
       "Relationship_Status_Single         0.017855\n",
       "VAR4_2.0                           0.017542\n",
       "Unit_Sales                         0.015892\n",
       "VAR1_2                             0.015436\n",
       "Unit_R&D                           0.015392\n",
       "Hometown_Springfield               0.014886\n",
       "Hometown_Franklin                  0.014843\n",
       "VAR1_4                             0.014510\n",
       "VAR6_6                             0.014227\n",
       "Compensation_and_Benefits_type2    0.013654\n",
       "VAR2_-1.8176                       0.012561\n",
       "VAR5_4                             0.011220\n",
       "VAR4_3.0                           0.009735\n",
       "VAR3_1.8688                        0.009470\n",
       "Unit_Operarions                    0.007274\n",
       "VAR7_2                             0.005728\n",
       "VAR6_9                             0.000639\n",
       "Compensation_and_Benefits_type1    0.000000\n",
       "VAR5_5                             0.000000\n",
       "VAR3_-2.7762                       0.000000\n",
       "VAR3_-1.615                        0.000000\n",
       "VAR1_5                             0.000000\n",
       "Compensation_and_Benefits_type4    0.000000\n",
       "Unit_Security                      0.000000\n",
       "Unit_Quality                       0.000000\n",
       "Unit_Purchasing                    0.000000\n",
       "Unit_Production                    0.000000\n",
       "Unit_Marketing                     0.000000\n",
       "Unit_Human Resource Management     0.000000\n",
       "VAR2_1.6081                        0.000000"
      ]
     },
     "execution_count": 47,
     "metadata": {},
     "output_type": "execute_result"
    }
   ],
   "source": [
    "feat"
   ]
  },
  {
   "cell_type": "code",
   "execution_count": 48,
   "metadata": {},
   "outputs": [],
   "source": [
    "#extracting features with \n",
    "cols_drop=feat[feat[0]==0].index"
   ]
  },
  {
   "cell_type": "code",
   "execution_count": 49,
   "metadata": {},
   "outputs": [],
   "source": [
    "#dropping un important features from train and test data\n",
    "x_train=X_train.drop(cols_drop,axis=1)\n",
    "x_test=X_test.drop(cols_drop,axis=1)"
   ]
  },
  {
   "cell_type": "markdown",
   "metadata": {},
   "source": [
    "Creating models instance with tunned parameters"
   ]
  },
  {
   "cell_type": "code",
   "execution_count": 69,
   "metadata": {},
   "outputs": [],
   "source": [
    "lasso=Lasso(alpha=0.02, normalize=True)\n",
    "dtree=DecisionTreeRegressor(max_depth= 8, max_features=0.01, min_samples_leaf= 0.05)\n",
    "rforest=RandomForestRegressor(max_depth= 1,max_features=0.01,min_samples_leaf=0.05,n_estimators=800,oob_score=True)\n",
    "svr=SVR(C=0.1, gamma= 1)\n",
    "xgb=XGBRegressor(gamma= 1, learning_rate= 0.1, max_depth=3, n_estimators= 300)"
   ]
  },
  {
   "cell_type": "code",
   "execution_count": 70,
   "metadata": {},
   "outputs": [],
   "source": [
    "model_data=[]\n",
    "for model in [lasso,dtree,rforest,svr,xgb]:\n",
    "    model.fit(x_train,y_train)\n",
    "    er1=(1-(mean_squared_error(y_train,model.predict(x_train)))**0.5)*100 #for training set error\n",
    "    er2=(1-(mean_squared_error(y_test,model.predict(x_test)))**0.5)*100 #for testing set error\n",
    "    model_name=str(model).split('(')[0]\n",
    "    model_data.append([model_name,er2,er1])\n",
    "model_data=pd.DataFrame(model_data)"
   ]
  },
  {
   "cell_type": "code",
   "execution_count": 78,
   "metadata": {},
   "outputs": [],
   "source": [
    "model_data.columns=[\"Model\",\"Test_error\",\"Train_error\"]"
   ]
  },
  {
   "cell_type": "code",
   "execution_count": 79,
   "metadata": {},
   "outputs": [
    {
     "data": {
      "text/html": [
       "<div>\n",
       "<style scoped>\n",
       "    .dataframe tbody tr th:only-of-type {\n",
       "        vertical-align: middle;\n",
       "    }\n",
       "\n",
       "    .dataframe tbody tr th {\n",
       "        vertical-align: top;\n",
       "    }\n",
       "\n",
       "    .dataframe thead th {\n",
       "        text-align: right;\n",
       "    }\n",
       "</style>\n",
       "<table border=\"1\" class=\"dataframe\">\n",
       "  <thead>\n",
       "    <tr style=\"text-align: right;\">\n",
       "      <th></th>\n",
       "      <th>Model</th>\n",
       "      <th>Test_error</th>\n",
       "      <th>Train_error</th>\n",
       "    </tr>\n",
       "  </thead>\n",
       "  <tbody>\n",
       "    <tr>\n",
       "      <th>0</th>\n",
       "      <td>RandomForestRegressor</td>\n",
       "      <td>80.976466</td>\n",
       "      <td>81.625491</td>\n",
       "    </tr>\n",
       "    <tr>\n",
       "      <th>1</th>\n",
       "      <td>XGBRegressor</td>\n",
       "      <td>80.975553</td>\n",
       "      <td>81.621907</td>\n",
       "    </tr>\n",
       "    <tr>\n",
       "      <th>2</th>\n",
       "      <td>Lasso</td>\n",
       "      <td>80.975553</td>\n",
       "      <td>81.621907</td>\n",
       "    </tr>\n",
       "    <tr>\n",
       "      <th>3</th>\n",
       "      <td>DecisionTreeRegressor</td>\n",
       "      <td>80.956871</td>\n",
       "      <td>81.629010</td>\n",
       "    </tr>\n",
       "    <tr>\n",
       "      <th>4</th>\n",
       "      <td>SVR</td>\n",
       "      <td>80.953811</td>\n",
       "      <td>85.311512</td>\n",
       "    </tr>\n",
       "  </tbody>\n",
       "</table>\n",
       "</div>"
      ],
      "text/plain": [
       "                   Model  Test_error  Train_error\n",
       "0  RandomForestRegressor   80.976466    81.625491\n",
       "1           XGBRegressor   80.975553    81.621907\n",
       "2                  Lasso   80.975553    81.621907\n",
       "3  DecisionTreeRegressor   80.956871    81.629010\n",
       "4                    SVR   80.953811    85.311512"
      ]
     },
     "execution_count": 79,
     "metadata": {},
     "output_type": "execute_result"
    }
   ],
   "source": [
    "model_data.sort_values('Test_error',ascending=False).reset_index(drop=True)"
   ]
  },
  {
   "cell_type": "markdown",
   "metadata": {},
   "source": [
    "Applying the best model on the test Data"
   ]
  },
  {
   "cell_type": "code",
   "execution_count": 80,
   "metadata": {},
   "outputs": [],
   "source": [
    "ensemble=RandomForestRegressor(min_samples_leaf=0.05, max_depth= 3,n_estimators= 1000,max_features=0.01,oob_score=True)#81.54"
   ]
  },
  {
   "cell_type": "code",
   "execution_count": 81,
   "metadata": {},
   "outputs": [],
   "source": [
    "test_df.reset_index(drop=True,inplace=True)"
   ]
  },
  {
   "cell_type": "code",
   "execution_count": 82,
   "metadata": {},
   "outputs": [],
   "source": [
    "#dropping un-important features from test set\n",
    "testt=test_df.drop(cols_drop,axis=1)"
   ]
  },
  {
   "cell_type": "code",
   "execution_count": 83,
   "metadata": {},
   "outputs": [],
   "source": [
    "#dropping un-important features from training set\n",
    "trainn=train_df.drop(cols_drop,axis=1)"
   ]
  },
  {
   "cell_type": "code",
   "execution_count": 84,
   "metadata": {
    "scrolled": true
   },
   "outputs": [
    {
     "data": {
      "text/plain": [
       "RandomForestRegressor(bootstrap=True, ccp_alpha=0.0, criterion='mse',\n",
       "                      max_depth=3, max_features=0.01, max_leaf_nodes=None,\n",
       "                      max_samples=None, min_impurity_decrease=0.0,\n",
       "                      min_impurity_split=None, min_samples_leaf=0.05,\n",
       "                      min_samples_split=2, min_weight_fraction_leaf=0.0,\n",
       "                      n_estimators=1000, n_jobs=None, oob_score=True,\n",
       "                      random_state=None, verbose=0, warm_start=False)"
      ]
     },
     "execution_count": 84,
     "metadata": {},
     "output_type": "execute_result"
    }
   ],
   "source": [
    "ensemble.fit(trainn,target)"
   ]
  },
  {
   "cell_type": "code",
   "execution_count": 85,
   "metadata": {},
   "outputs": [
    {
     "name": "stdout",
     "output_type": "stream",
     "text": [
      "81.43811726777098\n"
     ]
    }
   ],
   "source": [
    "#Training set score\n",
    "print((1-(mean_squared_error(target,ensemble.predict(trainn)))**0.5)*100)"
   ]
  },
  {
   "cell_type": "code",
   "execution_count": 86,
   "metadata": {},
   "outputs": [],
   "source": [
    "predictions=ensemble.predict(testt.drop('Employee_ID',axis=1))"
   ]
  },
  {
   "cell_type": "code",
   "execution_count": 87,
   "metadata": {},
   "outputs": [],
   "source": [
    "submission=pd.DataFrame(test_df['Employee_ID'])\n",
    "submission['Attrition_rate']=predictions.clip(0,1)"
   ]
  },
  {
   "cell_type": "code",
   "execution_count": 88,
   "metadata": {},
   "outputs": [
    {
     "data": {
      "text/plain": [
       "<matplotlib.axes._subplots.AxesSubplot at 0x234c06e7e48>"
      ]
     },
     "execution_count": 88,
     "metadata": {},
     "output_type": "execute_result"
    },
    {
     "data": {
      "image/png": "[encoded data removed]",
      "text/plain": [
       "<Figure size 648x432 with 1 Axes>"
      ]
     },
     "metadata": {},
     "output_type": "display_data"
    }
   ],
   "source": [
    "#Distribution of predicted Attrition_rate\n",
    "submission['Attrition_rate'].hist(bins=50,figsize=(9,6))"
   ]
  },
  {
   "cell_type": "code",
   "execution_count": 90,
   "metadata": {},
   "outputs": [
    {
     "data": {
      "text/html": [
       "<div>\n",
       "<style scoped>\n",
       "    .dataframe tbody tr th:only-of-type {\n",
       "        vertical-align: middle;\n",
       "    }\n",
       "\n",
       "    .dataframe tbody tr th {\n",
       "        vertical-align: top;\n",
       "    }\n",
       "\n",
       "    .dataframe thead th {\n",
       "        text-align: right;\n",
       "    }\n",
       "</style>\n",
       "<table border=\"1\" class=\"dataframe\">\n",
       "  <thead>\n",
       "    <tr style=\"text-align: right;\">\n",
       "      <th></th>\n",
       "      <th>Employee_ID</th>\n",
       "      <th>Attrition_rate</th>\n",
       "    </tr>\n",
       "  </thead>\n",
       "  <tbody>\n",
       "    <tr>\n",
       "      <th>0</th>\n",
       "      <td>EID_22713</td>\n",
       "      <td>0.191707</td>\n",
       "    </tr>\n",
       "    <tr>\n",
       "      <th>1</th>\n",
       "      <td>EID_9658</td>\n",
       "      <td>0.190327</td>\n",
       "    </tr>\n",
       "    <tr>\n",
       "      <th>2</th>\n",
       "      <td>EID_22203</td>\n",
       "      <td>0.188562</td>\n",
       "    </tr>\n",
       "    <tr>\n",
       "      <th>3</th>\n",
       "      <td>EID_7652</td>\n",
       "      <td>0.189952</td>\n",
       "    </tr>\n",
       "    <tr>\n",
       "      <th>4</th>\n",
       "      <td>EID_6516</td>\n",
       "      <td>0.190557</td>\n",
       "    </tr>\n",
       "    <tr>\n",
       "      <th>5</th>\n",
       "      <td>EID_20283</td>\n",
       "      <td>0.188115</td>\n",
       "    </tr>\n",
       "    <tr>\n",
       "      <th>6</th>\n",
       "      <td>EID_21014</td>\n",
       "      <td>0.190185</td>\n",
       "    </tr>\n",
       "    <tr>\n",
       "      <th>7</th>\n",
       "      <td>EID_7693</td>\n",
       "      <td>0.189865</td>\n",
       "    </tr>\n",
       "    <tr>\n",
       "      <th>8</th>\n",
       "      <td>EID_13232</td>\n",
       "      <td>0.190638</td>\n",
       "    </tr>\n",
       "    <tr>\n",
       "      <th>9</th>\n",
       "      <td>EID_6515</td>\n",
       "      <td>0.190588</td>\n",
       "    </tr>\n",
       "  </tbody>\n",
       "</table>\n",
       "</div>"
      ],
      "text/plain": [
       "  Employee_ID  Attrition_rate\n",
       "0   EID_22713        0.191707\n",
       "1    EID_9658        0.190327\n",
       "2   EID_22203        0.188562\n",
       "3    EID_7652        0.189952\n",
       "4    EID_6516        0.190557\n",
       "5   EID_20283        0.188115\n",
       "6   EID_21014        0.190185\n",
       "7    EID_7693        0.189865\n",
       "8   EID_13232        0.190638\n",
       "9    EID_6515        0.190588"
      ]
     },
     "execution_count": 90,
     "metadata": {},
     "output_type": "execute_result"
    }
   ],
   "source": [
    "submission.head(10)"
   ]
  },
  {
   "cell_type": "code",
   "execution_count": 91,
   "metadata": {},
   "outputs": [],
   "source": [
    "submission.to_csv('submission1.csv',index=False)"
   ]
  },
  {
   "cell_type": "markdown",
   "metadata": {},
   "source": [
    "<img src='score.png' />"
   ]
  },
  {
   "cell_type": "code",
   "execution_count": null,
   "metadata": {},
   "outputs": [],
   "source": []
  },
  {
   "cell_type": "code",
   "execution_count": null,
   "metadata": {},
   "outputs": [],
   "source": []
  },
  {
   "cell_type": "code",
   "execution_count": null,
   "metadata": {},
   "outputs": [],
   "source": []
  }
 ],
 "metadata": {
  "kernelspec": {
   "display_name": "Python 3",
   "language": "python",
   "name": "python3"
  },
  "language_info": {
   "codemirror_mode": {
    "name": "ipython",
    "version": 3
   },
   "file_extension": ".py",
   "mimetype": "text/x-python",
   "name": "python",
   "nbconvert_exporter": "python",
   "pygments_lexer": "ipython3",
   "version": "3.7.6"
  }
 },
 "nbformat": 4,
 "nbformat_minor": 4
}
